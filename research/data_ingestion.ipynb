{
 "cells": [
  {
   "cell_type": "code",
   "execution_count": 1,
   "metadata": {},
   "outputs": [],
   "source": [
    "import os"
   ]
  },
  {
   "cell_type": "code",
   "execution_count": 2,
   "metadata": {},
   "outputs": [
    {
     "data": {
      "text/plain": [
       "'c:\\\\Users\\\\Dell\\\\Documents\\\\Brain-Tumor-Classification-Project\\\\research'"
      ]
     },
     "execution_count": 2,
     "metadata": {},
     "output_type": "execute_result"
    }
   ],
   "source": [
    "%pwd"
   ]
  },
  {
   "cell_type": "code",
   "execution_count": 3,
   "metadata": {},
   "outputs": [],
   "source": [
    "os.chdir('../')"
   ]
  },
  {
   "cell_type": "code",
   "execution_count": 4,
   "metadata": {},
   "outputs": [
    {
     "data": {
      "text/plain": [
       "'c:\\\\Users\\\\Dell\\\\Documents\\\\Brain-Tumor-Classification-Project'"
      ]
     },
     "execution_count": 4,
     "metadata": {},
     "output_type": "execute_result"
    }
   ],
   "source": [
    "%pwd"
   ]
  },
  {
   "cell_type": "code",
   "execution_count": 5,
   "metadata": {},
   "outputs": [],
   "source": [
    "from dataclasses import dataclass\n",
    "from pathlib import Path\n",
    "\n",
    "@dataclass(frozen=True)\n",
    "class DataIngestionConfig:\n",
    "    root_dir: Path\n",
    "    source_url: str\n",
    "    local_data_file: Path\n",
    "    unzip_dir: Path"
   ]
  },
  {
   "cell_type": "code",
   "execution_count": 6,
   "metadata": {},
   "outputs": [
    {
     "name": "stdout",
     "output_type": "stream",
     "text": [
      "[2024-02-08 19:37:18,102: INFO: __init__: Starting data processing]\n",
      "[2024-02-08 19:37:18,103: INFO: __init__: Data preprocessing completed successfully.]\n"
     ]
    }
   ],
   "source": [
    "from braintumorClassifier.constants import *\n",
    "from braintumorClassifier.utils.common import read_yaml, create_directories\n"
   ]
  },
  {
   "cell_type": "code",
   "execution_count": 7,
   "metadata": {},
   "outputs": [],
   "source": [
    "class ConfigurationManager:\n",
    "    def __init__(self, config_filepath= CONFIG_FILE_PATH, params_filepath= PARAM_FILE_PATH):\n",
    "        self.config = read_yaml(config_filepath)\n",
    "        self.params = read_yaml(params_filepath)\n",
    "        create_directories([self.config.artifacts_root])\n",
    "\n",
    "    def get_data_ingestion_config(self) -> DataIngestionConfig:\n",
    "            config = self.config.data_ingestion\n",
    "            create_directories([config.root_dir])\n",
    "\n",
    "            data_ingestion_config = DataIngestionConfig(\n",
    "                 root_dir=config.root_dir,\n",
    "                 source_url=config.source_url,\n",
    "                 local_data_file=config.local_data_file,\n",
    "                 unzip_dir=config.unzip_dir\n",
    "            )\n",
    "\n",
    "            return data_ingestion_config\n",
    "        \n",
    "\n"
   ]
  },
  {
   "cell_type": "code",
   "execution_count": 8,
   "metadata": {},
   "outputs": [],
   "source": [
    "import os\n",
    "import urllib.request as request\n",
    "import zipfile\n",
    "from braintumorClassifier import logger\n",
    "from braintumorClassifier.utils.common import get_size"
   ]
  },
  {
   "cell_type": "code",
   "execution_count": 9,
   "metadata": {},
   "outputs": [],
   "source": [
    "class DataIngestion:\n",
    "    def __init__(self, config: DataIngestionConfig):\n",
    "        self.config = config\n",
    "\n",
    "\n",
    "    def download_file(self):\n",
    "        if not os.path.exists(self.config.local_data_file):\n",
    "            filename, header = request.urlretrieve(\n",
    "                url = self.config.source_url, \n",
    "                filename = self.config.local_data_file\n",
    "            )\n",
    "            logger.info(f'Downloaded {filename} with following headers: \\n{header}')\n",
    "        else:\n",
    "            logger.info(f'File already exists of size : {get_size(Path(self.config.local_data_file))}')\n",
    "\n",
    "    def extract_zip_file(self):\n",
    "        \"\"\"\n",
    "        Unzips the downloaded file\n",
    "        \"\"\"\n",
    "\n",
    "        unzip_path = self.config.unzip_dir\n",
    "        os.makedirs(unzip_path, exist_ok=True)\n",
    "        with zipfile.ZipFile(self.config.local_data_file, 'r') as zip_ref:\n",
    "            zip_ref.extractall(unzip_path)\n",
    "        logger.info(f'File extracted to: {unzip_path}')\n"
   ]
  },
  {
   "cell_type": "code",
   "execution_count": 23,
   "metadata": {},
   "outputs": [
    {
     "data": {
      "text/plain": [
       "'c:\\\\Users\\\\Dell\\\\Documents'"
      ]
     },
     "execution_count": 23,
     "metadata": {},
     "output_type": "execute_result"
    }
   ],
   "source": [
    "%pwd"
   ]
  },
  {
   "cell_type": "code",
   "execution_count": 10,
   "metadata": {},
   "outputs": [
    {
     "name": "stdout",
     "output_type": "stream",
     "text": [
      "[2024-02-08 19:37:30,443: INFO: common: yaml file: config\\config.yaml loaded successfully]\n",
      "[2024-02-08 19:37:30,445: INFO: common: yaml file: params.yaml loaded successfully]\n",
      "[2024-02-08 19:37:30,448: INFO: common: created directory at: artifacts]\n",
      "[2024-02-08 19:37:30,450: INFO: common: created directory at: artifacts/data_ingestion]\n",
      "[2024-02-08 19:39:57,475: INFO: 1905394879: Downloaded artifacts/data_ingestion/data.zip with following headers: \n",
      "Connection: close\n",
      "Content-Length: 19883640\n",
      "Cache-Control: max-age=300\n",
      "Content-Security-Policy: default-src 'none'; style-src 'unsafe-inline'; sandbox\n",
      "Content-Type: application/zip\n",
      "ETag: \"e9099c6112beae9f2a0d5fe26cfaa4c4caa0fc27be045c6f81bf2992d42b9bf4\"\n",
      "Strict-Transport-Security: max-age=31536000\n",
      "X-Content-Type-Options: nosniff\n",
      "X-Frame-Options: deny\n",
      "X-XSS-Protection: 1; mode=block\n",
      "X-GitHub-Request-Id: 3572:1274B0:222C83:2B4B9D:65C4DDF7\n",
      "Accept-Ranges: bytes\n",
      "Date: Thu, 08 Feb 2024 14:37:31 GMT\n",
      "Via: 1.1 varnish\n",
      "X-Served-By: cache-qpg1228-QPG\n",
      "X-Cache: HIT\n",
      "X-Cache-Hits: 0\n",
      "X-Timer: S1707403052.629147,VS0,VE304\n",
      "Vary: Authorization,Accept-Encoding,Origin\n",
      "Access-Control-Allow-Origin: *\n",
      "Cross-Origin-Resource-Policy: cross-origin\n",
      "X-Fastly-Request-ID: e74a439a78fec038b29afa80c45bc6ba3dd2cc6d\n",
      "Expires: Thu, 08 Feb 2024 14:42:31 GMT\n",
      "Source-Age: 0\n",
      "\n",
      "]\n",
      "[2024-02-08 19:39:58,695: INFO: 1905394879: File extracted to: artifacts/data_ingestion]\n"
     ]
    }
   ],
   "source": [
    "# Pipeline\n",
    "try:\n",
    "    config = ConfigurationManager()\n",
    "    data_ingestion_config = config.get_data_ingestion_config()\n",
    "    data_ingestion = DataIngestion(config = data_ingestion_config)\n",
    "    data_ingestion.download_file()\n",
    "    data_ingestion.extract_zip_file()\n",
    "except Exception as e:\n",
    "    raise e"
   ]
  },
  {
   "cell_type": "code",
   "execution_count": null,
   "metadata": {},
   "outputs": [],
   "source": []
  }
 ],
 "metadata": {
  "kernelspec": {
   "display_name": "Project1",
   "language": "python",
   "name": "python3"
  },
  "language_info": {
   "codemirror_mode": {
    "name": "ipython",
    "version": 3
   },
   "file_extension": ".py",
   "mimetype": "text/x-python",
   "name": "python",
   "nbconvert_exporter": "python",
   "pygments_lexer": "ipython3",
   "version": "3.11.7"
  }
 },
 "nbformat": 4,
 "nbformat_minor": 2
}
