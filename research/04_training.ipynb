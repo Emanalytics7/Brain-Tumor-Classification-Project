{
 "cells": [
  {
   "cell_type": "code",
   "execution_count": 1,
   "metadata": {},
   "outputs": [],
   "source": [
    "import os"
   ]
  },
  {
   "cell_type": "code",
   "execution_count": 2,
   "metadata": {},
   "outputs": [
    {
     "data": {
      "text/plain": [
       "'c:\\\\Users\\\\Dell\\\\Documents\\\\Brain-Tumor-Classification-Project\\\\research'"
      ]
     },
     "execution_count": 2,
     "metadata": {},
     "output_type": "execute_result"
    }
   ],
   "source": [
    "%pwd"
   ]
  },
  {
   "cell_type": "code",
   "execution_count": 3,
   "metadata": {},
   "outputs": [],
   "source": [
    "os.chdir('../')"
   ]
  },
  {
   "cell_type": "code",
   "execution_count": 4,
   "metadata": {},
   "outputs": [
    {
     "data": {
      "text/plain": [
       "'c:\\\\Users\\\\Dell\\\\Documents\\\\Brain-Tumor-Classification-Project'"
      ]
     },
     "execution_count": 4,
     "metadata": {},
     "output_type": "execute_result"
    }
   ],
   "source": [
    "%pwd"
   ]
  },
  {
   "cell_type": "code",
   "execution_count": 5,
   "metadata": {},
   "outputs": [],
   "source": [
    "from dataclasses import dataclass\n",
    "from pathlib import Path\n",
    "\n",
    "\n",
    "\n",
    "@dataclass(frozen=True)\n",
    "class TrainingConfig:\n",
    "    root_dir: Path\n",
    "    trained_model_path: Path\n",
    "    updated_base_model_path: Path\n",
    "    training_data: Path\n",
    "    params_epochs: int\n",
    "    params_batch_size: int\n",
    "    params_is_augmentation: bool\n",
    "    params_image_size : list\n",
    "\n",
    "\n",
    "\n",
    "@dataclass(frozen=True)\n",
    "class PrepareCallbacksConfig:\n",
    "    root_dir: Path\n",
    "    tensorboard_root_log_dir: Path\n",
    "    checkpoint_model_filepath: Path\n"
   ]
  },
  {
   "cell_type": "code",
   "execution_count": 6,
   "metadata": {},
   "outputs": [
    {
     "name": "stdout",
     "output_type": "stream",
     "text": [
      "[2024-02-10 16:03:37,140: INFO: __init__: Starting data processing]\n",
      "[2024-02-10 16:03:37,142: INFO: __init__: Data preprocessing completed successfully.]\n",
      "[2024-02-10 16:03:42,547: WARNING: module_wrapper: From c:\\Users\\Dell\\anaconda1\\envs\\Project1\\Lib\\site-packages\\keras\\src\\losses.py:2976: The name tf.losses.sparse_softmax_cross_entropy is deprecated. Please use tf.compat.v1.losses.sparse_softmax_cross_entropy instead.\n",
      "]\n",
      "[2024-02-10 16:03:42,714: INFO: utils: NumExpr defaulting to 8 threads.]\n"
     ]
    }
   ],
   "source": [
    "from braintumorClassifier.constants import *\n",
    "from braintumorClassifier.utils.common import read_yaml, create_directories\n",
    "import tensorflow as tf"
   ]
  },
  {
   "cell_type": "code",
   "execution_count": 7,
   "metadata": {},
   "outputs": [],
   "source": [
    "class ConfigurationManager:\n",
    "    def __init__(\n",
    "            self, \n",
    "            config_filepath = CONFIG_FILE_PATH, \n",
    "            params_filepath = PARAM_FILE_PATH):\n",
    "            self.config = read_yaml(config_filepath)\n",
    "            self.params = read_yaml(params_filepath)\n",
    "            create_directories([self.config.artifacts_root])\n",
    "\n",
    "    def get_prepare_callback_config(self) -> PrepareCallbacksConfig:\n",
    "        config = self.config.prepare_callbacks\n",
    "        model_ckpt_dir = os.path.dirname(config.checkpoint_model_filepath)\n",
    "        create_directories([\n",
    "            Path(model_ckpt_dir),\n",
    "            Path(config.tensorboard_root_log_dir)\n",
    "        ])\n",
    "\n",
    "        prepare_callbacks_config = PrepareCallbacksConfig(\n",
    "            root_dir = Path(config.root_dir),\n",
    "            tensorboard_root_log_dir= Path(config.tensorboard_root_log_dir),\n",
    "            checkpoint_model_filepath= Path(config.checkpoint_model_filepath)\n",
    "        )\n",
    "        return prepare_callbacks_config\n",
    "    \n",
    "\n",
    "    def get_training_config(self) -> TrainingConfig:\n",
    "        training = self.config.training\n",
    "        prepare_base_model = self.config.prepare_base_model\n",
    "        params = self.params\n",
    "        training_data = os.path.join(self.config.data_ingestion.unzip_dir, 'data')\n",
    "        create_directories([\n",
    "            Path(training.root_dir)\n",
    "        ])\n",
    "        print(\"Before TrainingConfig initialization\")\n",
    "\n",
    "\n",
    "        training_config = TrainingConfig(\n",
    "            root_dir = Path(training.root_dir),\n",
    "            trained_model_path = Path(training.trained_model_path),\n",
    "            updated_base_model_path = Path(prepare_base_model.updated_base_model_path),\n",
    "            training_data = Path(training_data),\n",
    "            params_epochs = params.EPOCHS,\n",
    "            params_batch_size = params.BATCH_SIZE,\n",
    "            params_is_augmentation = params.AUGMENTATION,\n",
    "            params_image_size = params.IMAGE_SIZE,\n",
    "        )\n",
    "        return training_config\n",
    "        print(\"After TrainingConfig initialization\")\n",
    "\n",
    "    "
   ]
  },
  {
   "cell_type": "code",
   "execution_count": 8,
   "metadata": {},
   "outputs": [],
   "source": [
    "import time \n",
    "import os\n",
    "import urllib.request as request\n",
    "from zipfile import ZipFile\n",
    "# import tensorflow as tf\n",
    "from keras.callbacks import EarlyStopping, ModelCheckpoint, ReduceLROnPlateau\n"
   ]
  },
  {
   "cell_type": "code",
   "execution_count": 9,
   "metadata": {},
   "outputs": [],
   "source": [
    "class PrepareCallbacks:\n",
    "    def __init__(self, config: PrepareCallbacksConfig):\n",
    "        self.config = config\n",
    "\n",
    "\n",
    "    @property\n",
    "    def _create_tb_callbacks(self):\n",
    "        timestamp = time.strftime(\"%Y-%m-%d-%H-%M-%S\")\n",
    "        tb_running_log_dir = os.path.join(\n",
    "            self.config.tensorboard_root_log_dir,\n",
    "            f'tb_logs_at_{timestamp}',\n",
    "        )\n",
    "        return tf.keras.callbacks.TensorBoard(log_dir=tb_running_log_dir)\n",
    "    \n",
    "    @property\n",
    "    def _create_ckpt_callbacks(self):\n",
    "        return tf.keras.callbacks.ModelCheckpoint(\n",
    "            filepath=str(self.config.checkpoint_model_filepath),\n",
    "            save_best_only=True\n",
    "        )\n",
    "    \n",
    "    def get_tb_ckpt_callbacks(self):\n",
    "        return [\n",
    "            self._create_tb_callbacks,\n",
    "            self._create_ckpt_callbacks\n",
    "        ]\n"
   ]
  },
  {
   "cell_type": "code",
   "execution_count": 14,
   "metadata": {},
   "outputs": [],
   "source": [
    "class Training:\n",
    "    def __init__(self, config: TrainingConfig):\n",
    "        self.config = config\n",
    "\n",
    "    def get_base_model(self):\n",
    "        self.model = tf.keras.models.load_model(\n",
    "            self.config.updated_base_model_path\n",
    "        )\n",
    "\n",
    "    def train_valid_generator(self):\n",
    "        datagenerator_kwargs = dict(\n",
    "            rescale = 1./255,\n",
    "            validation_split = 0.20\n",
    "        )\n",
    "\n",
    "        dataflow_kwargs = dict(\n",
    "            target_size = self.config.params_image_size[:-1],\n",
    "            batch_size = self.config.params_batch_size,\n",
    "            class_mode = 'categorical'\n",
    "        )\n",
    "\n",
    "        valid_datagenerator = tf.keras.preprocessing.image.ImageDataGenerator(\n",
    "            **datagenerator_kwargs\n",
    "        )\n",
    "\n",
    "        self.valid_generator = valid_datagenerator.flow_from_directory(\n",
    "            directory = self.config.training_data,\n",
    "            subset = 'validation',\n",
    "            shuffle = False,\n",
    "            **dataflow_kwargs\n",
    "        )\n",
    "\n",
    "       \n",
    "\n",
    "# Pass the learning rate scheduler to the list of callbacks\n",
    "        # callback_list.append(lr_scheduler)\n",
    "\n",
    "        if self.config.params_is_augmentation:\n",
    "            train_datagenerator = tf.keras.preprocessing.image.ImageDataGenerator(\n",
    "                rotation_range = 40, \n",
    "                horizontal_flip = True, \n",
    "                width_shift_range = 0.2, \n",
    "                height_shift_range = 0.2, \n",
    "                shear_range = 0.2, \n",
    "                zoom_range = 0.2, \n",
    "                **datagenerator_kwargs\n",
    "            )\n",
    "        else:\n",
    "            train_datagenerator = valid_datagenerator\n",
    "        self.train_generator = train_datagenerator.flow_from_directory(directory = self.config.training_data,\n",
    "                                                                            subset = 'training', shuffle = True,\n",
    "                                                                            **dataflow_kwargs )\n",
    "        \n",
    "    @staticmethod\n",
    "    def save_model(path: Path, model: tf.keras.Model):\n",
    "        model.save(path)\n",
    "\n",
    "    def train(self, callback_list: list):\n",
    "\n",
    "        callback_list = [\n",
    "            EarlyStopping(\n",
    "                monitor = 'val_loss', patience=10, verbose=1, restore_best_weights=True), \n",
    "                ModelCheckpoint(\n",
    "                    filepath=str(self.config.trained_model_path),\n",
    "                    monitor = 'val_loss', save_best_only=True, verbose=1),\n",
    "                    ReduceLROnPlateau(\n",
    "                        monitor = 'val_loss', factor=0.1, patience=3, verbose=1, min_lr=1e-7)\n",
    "        ]\n",
    "        self.step_per_epoch = self.train_generator.samples // self.train_generator.batch_size\n",
    "        self.validation_steps = self.valid_generator.samples // self.valid_generator.batch_size\n",
    "\n",
    "        self.model.fit(\n",
    "            self.train_generator, \n",
    "            epochs = self.config.params_epochs, \n",
    "            steps_per_epoch = self.step_per_epoch,\n",
    "            validation_data = self.valid_generator,\n",
    "            validation_steps = self.validation_steps,\n",
    "            callbacks = callback_list\n",
    "        )\n",
    "\n",
    "        self.save_model(\n",
    "            path=self.config.trained_model_path,\n",
    "            model=self.model\n",
    "        )"
   ]
  },
  {
   "cell_type": "code",
   "execution_count": 15,
   "metadata": {},
   "outputs": [
    {
     "name": "stdout",
     "output_type": "stream",
     "text": [
      "[2024-02-10 16:04:22,151: INFO: common: yaml file: config\\config.yaml loaded successfully]\n",
      "[2024-02-10 16:04:22,154: INFO: common: yaml file: params.yaml loaded successfully]\n",
      "[2024-02-10 16:04:22,155: INFO: common: created directory at: artifacts]\n",
      "[2024-02-10 16:04:22,158: INFO: common: created directory at: artifacts\\prepare_callbacks\\checkpoint_dir]\n",
      "[2024-02-10 16:04:22,160: INFO: common: created directory at: artifacts\\prepare_callbacks\\tensorboard_log_dir]\n",
      "[2024-02-10 16:04:22,163: INFO: common: created directory at: artifacts\\training]\n",
      "Before TrainingConfig initialization\n",
      "Found 208 images belonging to 2 classes.\n",
      "Found 833 images belonging to 2 classes.\n",
      "Epoch 1/10\n",
      "[2024-02-10 16:04:26,639: WARNING: module_wrapper: From c:\\Users\\Dell\\anaconda1\\envs\\Project1\\Lib\\site-packages\\keras\\src\\utils\\tf_utils.py:492: The name tf.ragged.RaggedTensorValue is deprecated. Please use tf.compat.v1.ragged.RaggedTensorValue instead.\n",
      "]\n",
      "52/52 [==============================] - ETA: 0s - loss: 84.5029 - accuracy: 0.6683\n",
      "Epoch 1: val_loss improved from inf to 22.07654, saving model to artifacts\\training\\model.h5\n"
     ]
    },
    {
     "name": "stderr",
     "output_type": "stream",
     "text": [
      "c:\\Users\\Dell\\anaconda1\\envs\\Project1\\Lib\\site-packages\\keras\\src\\engine\\training.py:3103: UserWarning: You are saving your model as an HDF5 file via `model.save()`. This file format is considered legacy. We recommend using instead the native Keras format, e.g. `model.save('my_model.keras')`.\n",
      "  saving_api.save_model(\n"
     ]
    },
    {
     "name": "stdout",
     "output_type": "stream",
     "text": [
      "52/52 [==============================] - 84s 2s/step - loss: 84.5029 - accuracy: 0.6683 - val_loss: 22.0765 - val_accuracy: 0.7933 - lr: 0.0100\n",
      "Epoch 2/10\n",
      "52/52 [==============================] - ETA: 0s - loss: 33.0067 - accuracy: 0.7760\n",
      "Epoch 2: val_loss did not improve from 22.07654\n",
      "52/52 [==============================] - 80s 2s/step - loss: 33.0067 - accuracy: 0.7760 - val_loss: 27.8162 - val_accuracy: 0.7596 - lr: 0.0100\n",
      "Epoch 3/10\n",
      "52/52 [==============================] - ETA: 0s - loss: 40.5772 - accuracy: 0.7699\n",
      "Epoch 3: val_loss did not improve from 22.07654\n",
      "52/52 [==============================] - 80s 2s/step - loss: 40.5772 - accuracy: 0.7699 - val_loss: 24.2353 - val_accuracy: 0.8654 - lr: 0.0100\n",
      "Epoch 4/10\n",
      "52/52 [==============================] - ETA: 0s - loss: 48.2008 - accuracy: 0.7772\n",
      "Epoch 4: val_loss improved from 22.07654 to 21.86102, saving model to artifacts\\training\\model.h5\n",
      "52/52 [==============================] - 77s 1s/step - loss: 48.2008 - accuracy: 0.7772 - val_loss: 21.8610 - val_accuracy: 0.8798 - lr: 0.0100\n",
      "Epoch 5/10\n",
      "52/52 [==============================] - ETA: 0s - loss: 28.6619 - accuracy: 0.8091\n",
      "Epoch 5: val_loss did not improve from 21.86102\n",
      "52/52 [==============================] - 76s 1s/step - loss: 28.6619 - accuracy: 0.8091 - val_loss: 24.6093 - val_accuracy: 0.8654 - lr: 0.0100\n",
      "Epoch 6/10\n",
      "52/52 [==============================] - ETA: 0s - loss: 46.5435 - accuracy: 0.7968\n",
      "Epoch 6: val_loss improved from 21.86102 to 20.01816, saving model to artifacts\\training\\model.h5\n",
      "52/52 [==============================] - 76s 1s/step - loss: 46.5435 - accuracy: 0.7968 - val_loss: 20.0182 - val_accuracy: 0.8365 - lr: 0.0100\n",
      "Epoch 7/10\n",
      "52/52 [==============================] - ETA: 0s - loss: 41.2142 - accuracy: 0.8176\n",
      "Epoch 7: val_loss did not improve from 20.01816\n",
      "52/52 [==============================] - 75s 1s/step - loss: 41.2142 - accuracy: 0.8176 - val_loss: 25.3322 - val_accuracy: 0.8654 - lr: 0.0100\n",
      "Epoch 8/10\n",
      "52/52 [==============================] - ETA: 0s - loss: 42.6652 - accuracy: 0.8176\n",
      "Epoch 8: val_loss did not improve from 20.01816\n",
      "52/52 [==============================] - 78s 2s/step - loss: 42.6652 - accuracy: 0.8176 - val_loss: 32.0554 - val_accuracy: 0.7837 - lr: 0.0100\n",
      "Epoch 9/10\n",
      "52/52 [==============================] - ETA: 0s - loss: 31.0743 - accuracy: 0.8397\n",
      "Epoch 9: val_loss did not improve from 20.01816\n",
      "\n",
      "Epoch 9: ReduceLROnPlateau reducing learning rate to 0.0009999999776482583.\n",
      "52/52 [==============================] - 80s 2s/step - loss: 31.0743 - accuracy: 0.8397 - val_loss: 33.0010 - val_accuracy: 0.7644 - lr: 0.0100\n",
      "Epoch 10/10\n",
      "52/52 [==============================] - ETA: 0s - loss: 24.6571 - accuracy: 0.8678\n",
      "Epoch 10: val_loss did not improve from 20.01816\n",
      "52/52 [==============================] - 75s 1s/step - loss: 24.6571 - accuracy: 0.8678 - val_loss: 25.4169 - val_accuracy: 0.8413 - lr: 1.0000e-03\n"
     ]
    }
   ],
   "source": [
    "try:\n",
    "    config = ConfigurationManager()\n",
    "    prepare_callbacks_config = config.get_prepare_callback_config()\n",
    "    prepare_callbacks = PrepareCallbacks(config=prepare_callbacks_config)\n",
    "    callback_list = prepare_callbacks.get_tb_ckpt_callbacks()\n",
    "\n",
    "    training_config = config.get_training_config()\n",
    "    training = Training(config=training_config)\n",
    "    training.get_base_model()\n",
    "    training.train_valid_generator()\n",
    "    training.train(callback_list)\n",
    "except Exception as e:\n",
    "    raise e\n"
   ]
  },
  {
   "cell_type": "code",
   "execution_count": null,
   "metadata": {},
   "outputs": [],
   "source": []
  },
  {
   "cell_type": "code",
   "execution_count": null,
   "metadata": {},
   "outputs": [],
   "source": []
  },
  {
   "cell_type": "code",
   "execution_count": null,
   "metadata": {},
   "outputs": [],
   "source": []
  },
  {
   "cell_type": "code",
   "execution_count": null,
   "metadata": {},
   "outputs": [],
   "source": []
  },
  {
   "cell_type": "code",
   "execution_count": null,
   "metadata": {},
   "outputs": [],
   "source": []
  },
  {
   "cell_type": "code",
   "execution_count": null,
   "metadata": {},
   "outputs": [],
   "source": []
  },
  {
   "cell_type": "code",
   "execution_count": null,
   "metadata": {},
   "outputs": [],
   "source": []
  },
  {
   "cell_type": "code",
   "execution_count": null,
   "metadata": {},
   "outputs": [],
   "source": []
  }
 ],
 "metadata": {
  "kernelspec": {
   "display_name": "Project1",
   "language": "python",
   "name": "python3"
  },
  "language_info": {
   "codemirror_mode": {
    "name": "ipython",
    "version": 3
   },
   "file_extension": ".py",
   "mimetype": "text/x-python",
   "name": "python",
   "nbconvert_exporter": "python",
   "pygments_lexer": "ipython3",
   "version": "3.11.7"
  }
 },
 "nbformat": 4,
 "nbformat_minor": 2
}
